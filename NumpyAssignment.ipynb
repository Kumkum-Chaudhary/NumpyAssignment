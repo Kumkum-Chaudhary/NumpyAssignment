{
 "cells": [
  {
   "cell_type": "code",
   "execution_count": 5,
   "id": "2668dad4-9da9-409f-ba91-e2fa67091d73",
   "metadata": {},
   "outputs": [],
   "source": [
    "import numpy as np"
   ]
  },
  {
   "cell_type": "markdown",
   "id": "c2691cda-9b69-4778-9982-ac20d204248d",
   "metadata": {},
   "source": [
    "THEORY QUESTIONS"
   ]
  },
  {
   "cell_type": "markdown",
   "id": "d5beceeb-d87c-42aa-9d0b-ab9da09df03e",
   "metadata": {},
   "source": [
    "1. Explain the purpose and advantages of NumPy in scientific computing and data analysis. \n",
    "How does it enhance Python's capabilities for numerical operations?"
   ]
  },
  {
   "cell_type": "code",
   "execution_count": 2,
   "id": "32721602-67d5-4141-af6d-c8a5ca0de983",
   "metadata": {},
   "outputs": [],
   "source": [
    "#NumPy is a fundamental package for scientific computing in Python.\n",
    "#It provides support for large, multi-dimensional arrays and matrices, along with a collection of mathematical functions to operate on these arrays efficiently.\n",
    "#NumPy enhances Python by offering a more efficient storage system and faster operations for numerical data compared to Python’s built-in lists. \n",
    "#Its ability to handle large datasets makes it crucial for data analysis tasks, where performance is key. The core advantage lies in its array-based operations and broadcasting features, which allow for vectorized computations, minimizing the need for loops and resulting in more readable and faster code."
   ]
  },
  {
   "cell_type": "markdown",
   "id": "8402d516-298a-460f-8985-2fd4e764e71a",
   "metadata": {},
   "source": [
    "2. Compare and contrast np.mean() and np.average() functions in NumPy. When would you use one over the other?"
   ]
  },
  {
   "cell_type": "code",
   "execution_count": 3,
   "id": "2cde7f82-99dc-4c24-b82d-05ef340df127",
   "metadata": {},
   "outputs": [],
   "source": [
    "#np.mean() calculates the arithmetic mean along a specified axis or the entire array.\n",
    "#It does not consider any weights. \n",
    "#On the other hand, np.average() allows for weighted averages, meaning you can specify the weight of each element, which is particularly useful when different data points have varying significance.\n",
    "#You would use np.mean() for a simple mean calculation where all values are considered equally, while np.average() is preferable when working with datasets where different values contribute differently to the overall mean."
   ]
  },
  {
   "cell_type": "markdown",
   "id": "33fa0ddc-e37c-429d-92df-e2b00f377093",
   "metadata": {},
   "source": [
    "3. Describe the methods for reversing a NumPy array along different axes. Provide examples for 1D and 2D arrays."
   ]
  },
  {
   "cell_type": "code",
   "execution_count": 8,
   "id": "64d243b2-2f17-486e-bbbe-1aee3d05ce9c",
   "metadata": {},
   "outputs": [
    {
     "name": "stdout",
     "output_type": "stream",
     "text": [
      "[4 3 2 1]\n"
     ]
    }
   ],
   "source": [
    "#To reverse a 1D array, you can use slicing: arr[::-1].\n",
    "#For 2D arrays, reversing along the rows (axis 0) is done using arr[::-1, :], and along the columns (axis 1) with arr[:, ::-1].\n",
    "#Example for 1D:\n",
    "arr = np.array([1, 2, 3, 4])\n",
    "reversed_arr = arr[::-1]\n",
    "print(reversed_arr)"
   ]
  },
  {
   "cell_type": "code",
   "execution_count": 9,
   "id": "6c13561e-99e7-4202-afbe-0088ef1844f6",
   "metadata": {},
   "outputs": [
    {
     "name": "stdout",
     "output_type": "stream",
     "text": [
      "[[3 4]\n",
      " [1 2]]\n",
      "[[2 1]\n",
      " [4 3]]\n"
     ]
    }
   ],
   "source": [
    "arr = np.array([[1, 2], [3, 4]])\n",
    "reversed_rows = arr[::-1, :]\n",
    "reversed_cols = arr[:, ::-1]\n",
    "print(reversed_rows)\n",
    "print(reversed_cols)"
   ]
  },
  {
   "cell_type": "markdown",
   "id": "f073d542-991c-4a45-8e32-97339efe338d",
   "metadata": {},
   "source": [
    "4. How can you determine the data type of elements in a NumPy array? Discuss the importance of data types in memory management and performance."
   ]
  },
  {
   "cell_type": "code",
   "execution_count": 10,
   "id": "6e45dc75-4f93-4ee7-bb57-0b4ce062f8dd",
   "metadata": {},
   "outputs": [],
   "source": [
    "#You can determine the data type of a NumPy array’s elements using the .dtype attribute. \n",
    "#Data types are crucial in memory management because NumPy arrays store data in contiguous memory locations, making it essential to specify data types to optimize memory usage and performance. \n",
    "#For example, using int32 instead of int64 reduces memory consumption when large datasets are involved, speeding up operations due to better cache efficiency."
   ]
  },
  {
   "cell_type": "markdown",
   "id": "b934a05c-929d-4d12-bf4c-b81479a4f47d",
   "metadata": {},
   "source": [
    "5. Define ndarrays in NumPy and explain their key features. How do they differ from standard Python lists?"
   ]
  },
  {
   "cell_type": "code",
   "execution_count": 11,
   "id": "c07d546c-5bb0-4e00-afd4-3eb1c57adb7d",
   "metadata": {},
   "outputs": [],
   "source": [
    "#NumPy's ndarray is a n-dimensional array that supports advanced mathematical operations. \n",
    "#Unlike Python lists, which are heterogeneous and require looping for element-wise operations, ndarrays are homogeneous, allowing for efficient, element-wise operations without the need for explicit loops. \n",
    "#They support vectorized operations, broadcasting, and are more memory-efficient due to their fixed data types and contiguous storage. \n",
    "#ndarrays also provide numerous methods for statistical and mathematical calculations directly on the data."
   ]
  },
  {
   "cell_type": "markdown",
   "id": "ac29a3bf-28b9-4412-b513-e788d7e950f0",
   "metadata": {},
   "source": [
    "6. Analyze the performance benefits of NumPy arrays over Python lists for large-scale numerical operations."
   ]
  },
  {
   "cell_type": "code",
   "execution_count": 12,
   "id": "63c74e71-347b-4ad2-b846-ecffc771d71c",
   "metadata": {},
   "outputs": [],
   "source": [
    "#NumPy arrays provide substantial performance benefits over Python lists because they are optimized for numerical operations. \n",
    "#Lists in Python are dynamically typed and stored in a fragmented memory structure, making them slower for large-scale operations. \n",
    "#NumPy arrays, being homogeneously typed and stored in contiguous memory blocks, allow faster computations due to vectorization, efficient memory usage, and reduced overhead of looping."
   ]
  },
  {
   "cell_type": "markdown",
   "id": "183d0056-3830-4a0a-9d02-b7cf9fdb7895",
   "metadata": {},
   "source": [
    "7. Compare vstack() and hstack() functions in NumPy. Provide examples demonstrating their usage and output."
   ]
  },
  {
   "cell_type": "code",
   "execution_count": 13,
   "id": "a385eb56-c00b-4bc7-b025-53e0eb5d3d24",
   "metadata": {},
   "outputs": [
    {
     "data": {
      "text/plain": [
       "array([1, 2, 3, 4])"
      ]
     },
     "execution_count": 13,
     "metadata": {},
     "output_type": "execute_result"
    }
   ],
   "source": [
    "#vstack() stacks arrays vertically (row-wise), while hstack() stacks them horizontally (column-wise).\n",
    "#Example:\n",
    "a = np.array([1, 2])\n",
    "b = np.array([3, 4])\n",
    "np.vstack((a, b))  \n",
    "np.hstack((a, b))  "
   ]
  },
  {
   "cell_type": "markdown",
   "id": "de328599-4b28-4e78-8105-081f33b5895b",
   "metadata": {},
   "source": [
    "8. Explain the differences between fliplr() and flipud() methods in NumPy, including their effects on various array dimensions."
   ]
  },
  {
   "cell_type": "code",
   "execution_count": 14,
   "id": "5b775ba9-dfb6-49c1-aec8-0f2ae2fb144d",
   "metadata": {},
   "outputs": [
    {
     "data": {
      "text/plain": [
       "array([[3, 4],\n",
       "       [1, 2]])"
      ]
     },
     "execution_count": 14,
     "metadata": {},
     "output_type": "execute_result"
    }
   ],
   "source": [
    "#fliplr() flips an array horizontally, reversing the order of columns, while flipud() flips it vertically, reversing the order of rows.\n",
    "arr = np.array([[1, 2], [3, 4]])\n",
    "np.fliplr(arr)  \n",
    "np.flipud(arr)  "
   ]
  },
  {
   "cell_type": "markdown",
   "id": "4da6c92d-5c7c-41af-bd1b-685571298c7b",
   "metadata": {},
   "source": [
    "9. Discuss the functionality of the array_split() method in NumPy. How does it handle uneven splits?"
   ]
  },
  {
   "cell_type": "code",
   "execution_count": 15,
   "id": "90e2d9c9-a64d-4bff-9c23-e6d4da86b2b9",
   "metadata": {},
   "outputs": [
    {
     "data": {
      "text/plain": [
       "[array([1, 2]), array([3, 4]), array([5])]"
      ]
     },
     "execution_count": 15,
     "metadata": {},
     "output_type": "execute_result"
    }
   ],
   "source": [
    "#array_split() splits an array into multiple sub-arrays.\n",
    "#If the array cannot be split evenly, the method distributes the extra elements among the first few sub-arrays.\n",
    "arr = np.array([1, 2, 3, 4, 5])\n",
    "np.array_split(arr, 3)  "
   ]
  },
  {
   "cell_type": "markdown",
   "id": "ca2ab499-6235-4cf1-90a3-1abb79512cb7",
   "metadata": {},
   "source": [
    "10. Explain the concepts of vectorization and broadcasting in NumPy. How do they contribute to efficient array operations?"
   ]
  },
  {
   "cell_type": "code",
   "execution_count": 16,
   "id": "f1416f0d-56d3-494f-b85a-08136d740661",
   "metadata": {},
   "outputs": [],
   "source": [
    "#Vectorization refers to the process of applying operations over entire arrays without explicit loops, leveraging CPU optimizations for speed. \n",
    "#Broadcasting allows operations on arrays of different shapes by stretching the smaller array to match the larger array’s dimensions.\n",
    "#Both techniques lead to more concise, faster, and memory-efficient code as they minimize explicit iteration and take advantage of low-level optimizations."
   ]
  },
  {
   "cell_type": "markdown",
   "id": "fec44e6c-052f-4696-9110-12dd8071ba01",
   "metadata": {},
   "source": [
    "PRACTICAL QUESTIONS"
   ]
  },
  {
   "cell_type": "code",
   "execution_count": 19,
   "id": "2bdc4b0d-e8cb-4a8e-9e00-14dc68f33319",
   "metadata": {},
   "outputs": [
    {
     "name": "stdout",
     "output_type": "stream",
     "text": [
      "[[20 54 18]\n",
      " [90 70 80]\n",
      " [64  2 85]]\n"
     ]
    }
   ],
   "source": [
    "#1. Create a 3x3 NumPy array with random integers between 1 and 100. Then, interchange its rows and columns.\n",
    "arr = np.random.randint(1, 101, size=(3, 3))\n",
    "transposed_arr = arr.T\n",
    "print(transposed_arr)"
   ]
  },
  {
   "cell_type": "code",
   "execution_count": 21,
   "id": "0041fd38-e734-4fb4-988d-27c6ecb30b75",
   "metadata": {},
   "outputs": [
    {
     "name": "stdout",
     "output_type": "stream",
     "text": [
      "[[0 1 2 3 4]\n",
      " [5 6 7 8 9]]\n",
      "[[0 1]\n",
      " [2 3]\n",
      " [4 5]\n",
      " [6 7]\n",
      " [8 9]]\n"
     ]
    }
   ],
   "source": [
    "#2. Generate a 1D NumPy array with 10 elements. Reshape it into a 2x5 array, then into a 5x2 array.\n",
    "arr = np.arange(10)\n",
    "arr_2x5 = arr.reshape(2, 5)\n",
    "arr_5x2 = arr_2x5.reshape(5, 2)\n",
    "print(arr_2x5)\n",
    "print(arr_5x2)"
   ]
  },
  {
   "cell_type": "code",
   "execution_count": 22,
   "id": "ff99780e-8e84-48dd-af50-6c6dacab857f",
   "metadata": {},
   "outputs": [
    {
     "name": "stdout",
     "output_type": "stream",
     "text": [
      "[[0.         0.         0.         0.         0.         0.        ]\n",
      " [0.         0.38136427 0.49242378 0.27401079 0.41329759 0.        ]\n",
      " [0.         0.00977041 0.94821609 0.4263655  0.86050246 0.        ]\n",
      " [0.         0.0484136  0.05841703 0.69417661 0.81250167 0.        ]\n",
      " [0.         0.92736595 0.65878714 0.75854463 0.59041272 0.        ]\n",
      " [0.         0.         0.         0.         0.         0.        ]]\n"
     ]
    }
   ],
   "source": [
    "#3. Create a 4x4 NumPy array with random float values. Add a border of zeros around it, resulting in a 6x6 array.\n",
    "arr = np.random.rand(4, 4)\n",
    "arr_with_border = np.pad(arr, pad_width=1, mode='constant', constant_values=0)\n",
    "print(arr_with_border)"
   ]
  },
  {
   "cell_type": "code",
   "execution_count": 24,
   "id": "d4b36cce-d324-4847-a422-2557ba4e927e",
   "metadata": {},
   "outputs": [
    {
     "data": {
      "text/plain": [
       "array([10, 15, 20, 25, 30, 35, 40, 45, 50, 55, 60])"
      ]
     },
     "execution_count": 24,
     "metadata": {},
     "output_type": "execute_result"
    }
   ],
   "source": [
    "#4. Using NumPy, create an array of integers from 10 to 60 with a step of 5.\n",
    "arr = np.arange(10, 61, 5)\n",
    "arr"
   ]
  },
  {
   "cell_type": "code",
   "execution_count": 25,
   "id": "95846c90-c3c2-4d3e-86ed-9bfa03d14d0c",
   "metadata": {},
   "outputs": [
    {
     "name": "stdout",
     "output_type": "stream",
     "text": [
      "['PYTHON' 'NUMPY' 'PANDAS'] ['python' 'numpy' 'pandas'] ['Python' 'Numpy' 'Pandas']\n"
     ]
    }
   ],
   "source": [
    "#5. Create a NumPy array of strings ['python', 'numpy', 'pandas']. Apply different case transformations (uppercase, lowercase, title case, etc.) to each element.\n",
    "arr = np.array(['python', 'numpy', 'pandas'])\n",
    "upper = np.char.upper(arr)\n",
    "lower = np.char.lower(arr)\n",
    "title = np.char.title(arr)\n",
    "print(upper, lower, title)"
   ]
  },
  {
   "cell_type": "code",
   "execution_count": 26,
   "id": "196a8bbd-cc18-42c2-b842-d4a12d3b4ac8",
   "metadata": {},
   "outputs": [
    {
     "name": "stdout",
     "output_type": "stream",
     "text": [
      "['h e l l o' 'w o r l d']\n"
     ]
    }
   ],
   "source": [
    "#6. Generate a NumPy array of words. Insert a space between each character of every word in the array.\n",
    "arr = np.array(['hello', 'world'])\n",
    "spaced = np.char.join(' ', arr)\n",
    "print(spaced)"
   ]
  },
  {
   "cell_type": "code",
   "execution_count": 28,
   "id": "35e6fac7-9bc0-4779-86c7-dd5c68aa595e",
   "metadata": {},
   "outputs": [
    {
     "name": "stdout",
     "output_type": "stream",
     "text": [
      "[[16  7]\n",
      " [10 17]]\n",
      "[[ 0 -3]\n",
      " [-8 -1]]\n",
      "[[64 10]\n",
      " [ 9 72]]\n",
      "[[1.         0.4       ]\n",
      " [0.11111111 0.88888889]]\n"
     ]
    }
   ],
   "source": [
    "#7. Create two 2D NumPy arrays and perform element-wise addition, subtraction, multiplication, and division.\n",
    "arr1 = np.random.randint(1, 10, size=(2, 2))\n",
    "arr2 = np.random.randint(1, 10, size=(2, 2))\n",
    "add = arr1 + arr2\n",
    "subtract = arr1 - arr2\n",
    "multiply = arr1 * arr2\n",
    "divide = arr1 / arr2\n",
    "print(add)\n",
    "print(subtract)\n",
    "print(multiply)\n",
    "print(divide)"
   ]
  },
  {
   "cell_type": "code",
   "execution_count": 29,
   "id": "d18f97ab-8c0b-4fda-8a4e-b510d4b7d48c",
   "metadata": {},
   "outputs": [
    {
     "name": "stdout",
     "output_type": "stream",
     "text": [
      "[1. 1. 1. 1. 1.]\n"
     ]
    }
   ],
   "source": [
    "#8. Use NumPy to create a 5x5 identity matrix, then extract its diagonal elements.\n",
    "identity_matrix = np.eye(5)\n",
    "diagonal = np.diag(identity_matrix)\n",
    "print(diagonal)"
   ]
  },
  {
   "cell_type": "code",
   "execution_count": 30,
   "id": "e9850f30-76af-4440-8c12-c02203087eee",
   "metadata": {},
   "outputs": [
    {
     "name": "stdout",
     "output_type": "stream",
     "text": [
      "[383 631 827 643 991  71 379 409 349 557 311 673 199 137 449 337 137 691\n",
      " 587]\n"
     ]
    }
   ],
   "source": [
    "#9. Generate a NumPy array of 100 random integers between 0 and 1000. Find and display all prime numbers in this array.\n",
    "arr = np.random.randint(0, 1000, 100)\n",
    "primes = arr[np.vectorize(lambda x: all(x % i != 0 for i in range(2, int(np.sqrt(x)) + 1)))(arr)]\n",
    "print(primes)"
   ]
  },
  {
   "cell_type": "code",
   "execution_count": 33,
   "id": "b59f4261-d207-4d74-aa20-b19840938664",
   "metadata": {},
   "outputs": [
    {
     "name": "stdout",
     "output_type": "stream",
     "text": [
      "Week 1 average temperature: 30.17°C\n",
      "Week 2 average temperature: 30.17°C\n",
      "Week 3 average temperature: 30.83°C\n",
      "Week 4 average temperature: 25.83°C\n",
      "Week 5 average temperature: 29.50°C\n"
     ]
    }
   ],
   "source": [
    "#10. Create a NumPy array representing daily temperatures for a month. Calculate and display the weekly averages.\n",
    "temps = np.random.randint(20, 40, size=30)\n",
    "weekly_temps = np.array_split(temps, 5)  \n",
    "weekly_avg = [np.mean(week) for week in weekly_temps]\n",
    "\n",
    "for i, avg in enumerate(weekly_avg, 1):\n",
    "    print(f\"Week {i} average temperature: {avg:.2f}°C\")\n"
   ]
  },
  {
   "cell_type": "code",
   "execution_count": null,
   "id": "1a900d8f-487a-4725-be64-0705f1a8c379",
   "metadata": {},
   "outputs": [],
   "source": []
  }
 ],
 "metadata": {
  "kernelspec": {
   "display_name": "Python 3 (ipykernel)",
   "language": "python",
   "name": "python3"
  },
  "language_info": {
   "codemirror_mode": {
    "name": "ipython",
    "version": 3
   },
   "file_extension": ".py",
   "mimetype": "text/x-python",
   "name": "python",
   "nbconvert_exporter": "python",
   "pygments_lexer": "ipython3",
   "version": "3.10.8"
  }
 },
 "nbformat": 4,
 "nbformat_minor": 5
}
